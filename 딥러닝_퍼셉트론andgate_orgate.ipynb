{
  "nbformat": 4,
  "nbformat_minor": 0,
  "metadata": {
    "colab": {
      "name": "딥러닝_퍼셉트론andgate_orgate.ipynb",
      "private_outputs": true,
      "provenance": [],
      "collapsed_sections": [],
      "authorship_tag": "ABX9TyOwUuYzeYnpadubyabHkI+L",
      "include_colab_link": true
    },
    "kernelspec": {
      "name": "python3",
      "display_name": "Python 3"
    },
    "language_info": {
      "name": "python"
    }
  },
  "cells": [
    {
      "cell_type": "markdown",
      "metadata": {
        "id": "view-in-github",
        "colab_type": "text"
      },
      "source": [
        "<a href=\"https://colab.research.google.com/github/mapbefun/mapbefun/blob/main/%EB%94%A5%EB%9F%AC%EB%8B%9D_%ED%8D%BC%EC%85%89%ED%8A%B8%EB%A1%A0andgate_orgate.ipynb\" target=\"_parent\"><img src=\"https://colab.research.google.com/assets/colab-badge.svg\" alt=\"Open In Colab\"/></a>"
      ]
    },
    {
      "cell_type": "markdown",
      "metadata": {
        "id": "_mpZMC-YlXSm"
      },
      "source": [
        "1.아래 퍼셉트론을 python으로 구현하시오. \n",
        "AND게이트\n",
        "OR게이트\n",
        "NAND게이트\n",
        "XOR게이트\n"
      ]
    },
    {
      "cell_type": "code",
      "metadata": {
        "id": "By9Cov0Vldt0"
      },
      "source": [
        "def AND(x1,x2):\n",
        "    w1,w2,cvalue=1,1,1\n",
        "    tmp=x1*w1+x2*w2\n",
        "    if tmp <= cvalue:\n",
        "        return 0\n",
        "    else:\n",
        "        return 1\n",
        "AND(0,0)"
      ],
      "execution_count": null,
      "outputs": []
    },
    {
      "cell_type": "code",
      "metadata": {
        "id": "wa-PegmPpGn7"
      },
      "source": [
        "AND(1,0). #AND게이트"
      ],
      "execution_count": null,
      "outputs": []
    },
    {
      "cell_type": "code",
      "metadata": {
        "id": "8XAm7N9DqUAo"
      },
      "source": [
        "AND(0,1)  #AND게이트"
      ],
      "execution_count": null,
      "outputs": []
    },
    {
      "cell_type": "code",
      "metadata": {
        "id": "qkW9XpmIqWM4"
      },
      "source": [
        "AND(1,1)  #AND게이트"
      ],
      "execution_count": null,
      "outputs": []
    },
    {
      "cell_type": "markdown",
      "metadata": {
        "id": "oRdPym87y8G7"
      },
      "source": [
        "AND 게이트 만들기 "
      ]
    },
    {
      "cell_type": "code",
      "metadata": {
        "id": "xFIdkBUdwvow"
      },
      "source": [
        "import numpy as np. \n",
        "def AND(x1,x2):\n",
        " x=np.array([x1,x2])  #입력\n",
        " w=np.array([0.5,0.5])  #가중치\n",
        " b=-0.7  #편향\n",
        " tmp=np.sum(x*x)+b\n",
        " if tmp <= 0:\n",
        "    return 0\n",
        " else:\n",
        "    return 1    "
      ],
      "execution_count": null,
      "outputs": []
    },
    {
      "cell_type": "code",
      "metadata": {
        "id": "PYvdgCW9xmYL"
      },
      "source": [
        ""
      ],
      "execution_count": null,
      "outputs": []
    },
    {
      "cell_type": "markdown",
      "metadata": {
        "id": "xo3ZYAXMzAxP"
      },
      "source": [
        "OR 게이트 만들기"
      ]
    },
    {
      "cell_type": "code",
      "metadata": {
        "id": "nG99sa0zqZZ4"
      },
      "source": [
        "def OR(x1,x2):\n",
        "    x=np.array([x1,x2])\n",
        "    w=np.array([0.5,0.5])\n",
        "    b=-0.2\n",
        "    tmp=np.sum(w*x)+b\n",
        "    if tmp <= 0:\n",
        "        return 0\n",
        "    else:\n",
        "        return 1\n",
        "\n"
      ],
      "execution_count": null,
      "outputs": []
    },
    {
      "cell_type": "markdown",
      "metadata": {
        "id": "PNa2iqJGzKm9"
      },
      "source": [
        "NAND 게이트 만들기 "
      ]
    },
    {
      "cell_type": "code",
      "metadata": {
        "id": "g0i4A2SZzJ6y"
      },
      "source": [
        "def AND(x1,x2):\n",
        "    x=np.array([x1,x2])\n",
        "    x=np.array([-0.5,-0.5])\n",
        "    b=0.7\n",
        "    tmp=np.sum(w*x)+b\n",
        "    if tmp <=0:\n",
        "        return 0\n",
        "    else:\n",
        "        return 1    "
      ],
      "execution_count": null,
      "outputs": []
    },
    {
      "cell_type": "markdown",
      "metadata": {
        "id": "bpnX96RzzzXS"
      },
      "source": [
        "XOR 게이트 만들기"
      ]
    },
    {
      "cell_type": "code",
      "metadata": {
        "id": "fE5umdV8z1l8"
      },
      "source": [
        "def XOR(x1,x2):\n",
        "    s1=NAND(x1,x2)\n",
        "    s2=OR(x1,x2)\n",
        "    y=AND(s1,s2)\n",
        "    return y"
      ],
      "execution_count": null,
      "outputs": []
    },
    {
      "cell_type": "markdown",
      "metadata": {
        "id": "HFWNOWOo9eX4"
      },
      "source": [
        "2. 아래 첨부그림파일의 파이썬 코딩의 결과는 어떻게 될까요? 그 이유는?"
      ]
    },
    {
      "cell_type": "code",
      "metadata": {
        "id": "ERojYeLB9gUE"
      },
      "source": [
        "import numpy as np\n",
        "print(np.__version__)"
      ],
      "execution_count": null,
      "outputs": []
    },
    {
      "cell_type": "code",
      "metadata": {
        "id": "LYCo6txC-Sk9"
      },
      "source": [
        "import numpy as np\n",
        "def add_five(x):\n",
        "     x += 5\n",
        "     A=np.array([1,2,3,4,5,6])\n",
        "     B=50\n",
        "     add_five(A)\n",
        "     add_five(B)\n",
        "     print(A)\n",
        "     print(B)"
      ],
      "execution_count": null,
      "outputs": []
    },
    {
      "cell_type": "code",
      "metadata": {
        "id": "TUyhnxlFC2hU"
      },
      "source": [
        "\"x += 5\" 는 x에 5를 더하고 그 결과를 다시 x에 할당한다는 의미이다. \n",
        "따라서 결과는 A=6,7,8,9,10,11.  #1~6까지의 값에 각각 5를 더한 결과가 됨으로.\n",
        "B=55   #50에 5를 더한 값"
      ],
      "execution_count": null,
      "outputs": []
    },
    {
      "cell_type": "code",
      "metadata": {
        "id": "C9LHSPT94FMm"
      },
      "source": [
        "#퍼셉트론 연습\n",
        "def AND_gate(x1,x2)\n",
        " w1=0.5 #x1에 대한 가중치(선형 그래프 상 기울기)\n",
        " w2=0.5 #x2에 대한 가중치(선형 그래프 상 기울기) \n",
        " b=-0.7. #bias(선형 그래프의 높낮이, 편향 즉 임계점값으로 높으면 높을 수록 분류의 기준이 엄격한 것을 의미)\n",
        " if result <= 0:\n",
        "  return 0 \n",
        "\n"
      ],
      "execution_count": null,
      "outputs": []
    },
    {
      "cell_type": "code",
      "metadata": {
        "id": "cxtp4hgj6PEA"
      },
      "source": [
        "import numpy as np\n",
        "def step_function(x):\n",
        "    y=np.zeros(x.shape).astype(np.int)\n",
        "    y[x>0]=1\n",
        "    return y\n",
        "\n",
        "x=np.array([1,1,0,2,3,-2,-3])\n",
        "y=step_function(x)\n",
        "print(y)    "
      ],
      "execution_count": null,
      "outputs": []
    },
    {
      "cell_type": "code",
      "metadata": {
        "id": "KgoK7ao3-gqC"
      },
      "source": [
        "import numpy as np\n",
        "import matplotlib.pyplot as plt\n",
        "\n",
        "x=np.arange(-5,5,0.1)\n",
        "y=step_function(x)\n",
        "\n",
        "plt.figure()\n",
        "plt.plot(x,y)\n",
        "plt.show()"
      ],
      "execution_count": null,
      "outputs": []
    },
    {
      "cell_type": "code",
      "metadata": {
        "id": "pXYxDcDT-IH-"
      },
      "source": [
        "#Sigmoid 함수\n",
        "def sigmoid(x):\n",
        "    return 1/(1+np.exp(-x))\n",
        "x=np.arange(-5,5,0.1)\n",
        "y=sigmoid(x)\n",
        "\n",
        "plt.figure()\n",
        "plt.plot(x,y)\n",
        "plt.show()\n"
      ],
      "execution_count": null,
      "outputs": []
    },
    {
      "cell_type": "code",
      "metadata": {
        "id": "n5wpPSoV3Zlu"
      },
      "source": [
        "import numpy as np\n",
        "X1 = np.array([[1,-1],[2,-2],[3,-3]])\n",
        "X2 = np.array([1,2,3],[-1,-2,-3])\n",
        "Y = np.dot(X1,X2)\n",
        "print(Y)\n",
        "print(Y.shape)\n",
        "\n"
      ],
      "execution_count": null,
      "outputs": []
    },
    {
      "cell_type": "markdown",
      "metadata": {
        "id": "NzAMHLVw3wYl"
      },
      "source": [
        "1. 아래와 같은 4층 신경망을 python을 이용하여 구현해보시오. (numpy 라이브러리만 활용) \n",
        "2. 입력층 뉴런수 2개, 첫번째 은닉층 뉴런 수 5개, 두번째 은닉층 뉴런수 4개, 세번째 은닉층 뉴런수 3개, 출력층 뉴런수 2개\n",
        "3. Activation으로 Sigmoid를 이용합니다.\n",
        "4. 회귀 문제를 해결하는 네트워크입니다. \n",
        "5. Weighting parameter와 Bias 파라미터 값은 임의로 넣어주세요.\n",
        "6. 아래의 X값을 넣었을 때 출력되는 Y값을 구하시오X = np.array([[1,-1],[2,-2],[3,-3]])"
      ]
    },
    {
      "cell_type": "code",
      "metadata": {
        "id": "qqtQlraqCuRA"
      },
      "source": [
        "import numpy as np\n",
        "\n",
        "def init_network():\n",
        "    network = {}\n",
        "    network['w1'] = np.array([[0.1,0.2,0.3,0.4,0.5],[0.1,0.2,0.3,0.4,0.5]])\n",
        "    network['b1'] = np.array([0.1,0.2,0.3,0.4,0.5])\n",
        "    network['w2'] = np.array([[0.1,0.2,0.3,0.4],[0.5,0.6,0.7,0.8],[0.9,0.8,0.7,0.6],[0.5,0.4,0.3,0.2],[0.1,0.2,0.3,0.4]])\n",
        "    network['b2'] = np.array([0.1,0.2,0.3,0.4])\n",
        "    network['w3'] = np.array([[0.1,0.2,0.3],[0.4,0.5,0.6],[0.7,0.8,0.9],[0.8,0.7,0.6]])\n",
        "    network['b3'] = np.array([0.1,0.2,0.3])\n",
        "    network['w4'] = np.array([[0.1,0.2],[0.3,0.4],[0.5,0.6]])\n",
        "    network['b4'] = np.array([0.1,0.2])       \n",
        "\n",
        "    return network\n",
        "\n",
        "def forward(net,x):\n",
        "    w1, w2, w3, w4 = net['w1'],net['w2'],net['w3'],net['w4']\n",
        "    b1, b2, b3, b4 = net['b1'],net['b2'],net['b3'],net['b4']  \n",
        "\n",
        "    a1 = np.dot(x,w1)+b1\n",
        "    z1 = sigmoid(a1)\n",
        "    a2 = np.dot(z1,w2)+b2\n",
        "    z2 = sigmoid(a2)\n",
        "    a3 = np.dot(z2,w3)+b3\n",
        "    z3 = sigmoid(a3)\n",
        "    a4 = np.dot(z3,w4)+b4\n",
        "    y = identity_function(a4)\n",
        "\n",
        "    return y\n",
        "\n",
        "ann_parameter = init_network()\n",
        "x=np.array([[1,-1],[2,-2],[3,-3]])\n",
        "print(x)\n",
        "y=forward(ann_parameter,x)\n",
        "print(y)\n",
        "\n"
      ],
      "execution_count": null,
      "outputs": []
    },
    {
      "cell_type": "code",
      "metadata": {
        "id": "0lAQ9ghQOznQ"
      },
      "source": [
        "\n",
        "plt.figure() \n",
        "plt.plot(x,y) \n",
        "plt.show()"
      ],
      "execution_count": null,
      "outputs": []
    }
  ]
}