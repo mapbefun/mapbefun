{
  "nbformat": 4,
  "nbformat_minor": 0,
  "metadata": {
    "colab": {
      "private_outputs": true,
      "provenance": [],
      "collapsed_sections": [],
      "authorship_tag": "ABX9TyP0Jm1iVU8llurYI9l9fXT5",
      "include_colab_link": true
    },
    "kernelspec": {
      "name": "python3",
      "display_name": "Python 3"
    },
    "language_info": {
      "name": "python"
    }
  },
  "cells": [
    {
      "cell_type": "markdown",
      "metadata": {
        "id": "view-in-github",
        "colab_type": "text"
      },
      "source": [
        "<a href=\"https://colab.research.google.com/github/mapbefun/mapbefun/blob/main/%EB%8F%84%EB%B4%89%EA%B5%AC%EB%AF%BC%EC%9C%A0%ED%98%95%ED%99%94_2016_K_prototype_method_.ipynb\" target=\"_parent\"><img src=\"https://colab.research.google.com/assets/colab-badge.svg\" alt=\"Open In Colab\"/></a>"
      ]
    },
    {
      "cell_type": "code",
      "execution_count": null,
      "metadata": {
        "id": "Wf8I2l23SHX_"
      },
      "outputs": [],
      "source": [
        "from google.colab import drive\n",
        "drive.mount(\"/datalab/drive\")"
      ]
    },
    {
      "cell_type": "code",
      "source": [
        "import sys, os\n",
        "sys.path.append(os.pardir)\n",
        "sys.path.append(\"/datalab/drive/MyDrive/dataset/graduate\")\n",
        "my_path=\"/datalab/drive/MyDrive/dataset/graduate\""
      ],
      "metadata": {
        "id": "ND1O-0zrScIx"
      },
      "execution_count": null,
      "outputs": []
    },
    {
      "cell_type": "code",
      "source": [
        "import pandas as pd\n",
        "import numpy as np\n",
        "import matplotlib.pyplot as plt"
      ],
      "metadata": {
        "id": "NMXJo6uxSofT"
      },
      "execution_count": null,
      "outputs": []
    },
    {
      "cell_type": "code",
      "source": [
        "df = pd.read_csv(\"/datalab/drive/MyDrive/dataset/graduate/dobong_2016.csv\") \n",
        "df.columns"
      ],
      "metadata": {
        "id": "WWxvPDeHS1TX"
      },
      "execution_count": null,
      "outputs": []
    },
    {
      "cell_type": "code",
      "source": [
        "df.info()"
      ],
      "metadata": {
        "id": "S_X5xN-TTi2Q"
      },
      "execution_count": null,
      "outputs": []
    },
    {
      "cell_type": "code",
      "source": [
        "df.shape"
      ],
      "metadata": {
        "id": "qbDqy-oqS_ID"
      },
      "execution_count": null,
      "outputs": []
    },
    {
      "cell_type": "code",
      "source": [
        "df.dtypes"
      ],
      "metadata": {
        "id": "D1aknLOMUNfc"
      },
      "execution_count": null,
      "outputs": []
    },
    {
      "cell_type": "code",
      "source": [
        "#사용하지 않는 컬럼 삭제\n",
        "#분석에 불필요한 변수는 제거(가구일련번호는 단순히 가구원끼리 구분하기 위한 ID에 불가하고 데이터에 규칙성도 없으므로 삭제, 생활SOC시설과 관련성이 없는 설문 항목 삭제)\n",
        "df = df.drop(columns = ['가구일련번호', '주로 이용하는 교통수단_평일', '주로 이용하는 교통수단_주말','주차 공간', '도봉구 영역별 만족도_주민참여','도봉구 영역별 만족도_지역경제','도봉구 영역별 만족도_민원행정서비스','도봉구 영역별 만족도_교육환경', '도봉구 영역별 만족도_복지서비스','도봉구 영역별 만족도_보건의료서비스','도봉구 영역별 만족도_교통/주차분야','도봉구 영역별 만족도_공원녹지' , '도봉구 영역별 만족도_문화/체육환경'  ])\n",
        "df.columns"
      ],
      "metadata": {
        "id": "90eLJ7B8UkQe"
      },
      "execution_count": null,
      "outputs": []
    },
    {
      "cell_type": "code",
      "source": [
        "df.count()"
      ],
      "metadata": {
        "id": "_VgEMVs2UxIq"
      },
      "execution_count": null,
      "outputs": []
    },
    {
      "cell_type": "code",
      "source": [
        "df.describe()"
      ],
      "metadata": {
        "id": "LIE4eIg8UDK4"
      },
      "execution_count": null,
      "outputs": []
    },
    {
      "cell_type": "code",
      "source": [
        "#변수명 변경  \n",
        "df = df.rename(columns={\"전체 가구원수\" : \"Ha_M_count\" , \"공공 편의시설 확대 순위_1순위\" :  \"Prefer_1\" , \"공공 편의시설 확대 순위_2순위\" : \"Perfer_2\" , \n",
        "                        \"주로 이용하는 교통수단_평일\" : \"Transport_weekdays\" , \"주로 이용하는 교통수단_주말\" : \"Transport_weekend\" , \"주차 공간\" : \"Parking_space\" , \n",
        "                        \"가구소득\"  : \"Ha_income\" , \"성별\" : \"Sex\" , \"연령별\" : \"Age\" , \"학력별\" : \"Edu\" , \"주택형태별\" : \"House_type\" , \"권역분류별\" : \"Zone\" , \n",
        "                        \"가구주와의 관계\" : \"Ha_relation\" , \"혼인상태\" : \"Marriage\" ,  \"도봉구 영역별 만족도_민원행정서비스\" : \"Satisfaction_admin\" , \n",
        "                        \"도봉구 영역별 만족도_교육환경\" : \"Satisfaction_edu\" , \"도봉구 영역별 만족도_문화/체육환경\" :  \"Satisfaction_culturesports\" , \n",
        "                        \"도봉구 영역별 만족도_복지서비스\" : \"Satisfaction_welfare\" , \"도봉구 영역별 만족도_보건의료서비스\" : \"Satisfaction_health\" , \n",
        "                        \"도봉구 영역별 만족도_교통/주차분야\" : \"Satisfaction_ traffic\" , \"도봉구 영역별 만족도_공원녹지\" : \"Satisfaction_park\"})   \n",
        "df.columns"
      ],
      "metadata": {
        "id": "eBPQOPIUS7pP"
      },
      "execution_count": null,
      "outputs": []
    },
    {
      "cell_type": "code",
      "source": [
        "df.head(10)"
      ],
      "metadata": {
        "id": "qDhZGwNHg1SA"
      },
      "execution_count": null,
      "outputs": []
    },
    {
      "cell_type": "code",
      "source": [
        "#결측치 확인\n",
        "df.isnull().sum()   "
      ],
      "metadata": {
        "id": "GaDO6MC4Sq5X"
      },
      "execution_count": null,
      "outputs": []
    },
    {
      "cell_type": "code",
      "source": [
        "df.loc[df['Perfer_2'] != df['Perfer_2'], 'Perfer_2'] =12 #무응답인 경우 기타 코드값인 12번으로 대체함\n",
        "df.head(10)"
      ],
      "metadata": {
        "id": "YhkO8Eq6CKil"
      },
      "execution_count": null,
      "outputs": []
    },
    {
      "cell_type": "code",
      "source": [
        "df.isnull().sum()  #결측치 확인. 결측치가 모두 메꿔짐 확인."
      ],
      "metadata": {
        "id": "mh82c7NVCMvm"
      },
      "execution_count": null,
      "outputs": []
    },
    {
      "cell_type": "code",
      "source": [
        "df = df.astype(int) #소수점 형식은 정수형으로 모두 변환\n",
        "df"
      ],
      "metadata": {
        "id": "hMvsdz_ICTcG"
      },
      "execution_count": null,
      "outputs": []
    },
    {
      "cell_type": "code",
      "source": [
        "df.mean()"
      ],
      "metadata": {
        "id": "--V6D4Oc6JHP"
      },
      "execution_count": null,
      "outputs": []
    },
    {
      "cell_type": "markdown",
      "source": [
        "K-Prototype 클러스터링"
      ],
      "metadata": {
        "id": "KocrzPRlc6M9"
      }
    },
    {
      "cell_type": "code",
      "source": [
        "pip install sklearn"
      ],
      "metadata": {
        "id": "a7ciB3Dxl7Kh"
      },
      "execution_count": null,
      "outputs": []
    },
    {
      "cell_type": "code",
      "source": [
        "pip install kmodes"
      ],
      "metadata": {
        "id": "uP-D6tdIcR13"
      },
      "execution_count": null,
      "outputs": []
    },
    {
      "cell_type": "code",
      "source": [
        "pip install --upgrade kmodes"
      ],
      "metadata": {
        "id": "BhO_mKLDGfty"
      },
      "execution_count": null,
      "outputs": []
    },
    {
      "cell_type": "code",
      "source": [
        "pip install 'umap-learn==0.3.10'"
      ],
      "metadata": {
        "id": "ydhkWkQe-Rc3"
      },
      "execution_count": null,
      "outputs": []
    },
    {
      "cell_type": "code",
      "source": [
        "import os\n",
        "import json\n",
        "\n",
        "import numpy as np\n",
        "import pandas as pd\n",
        "from pandas.io.json import json_normalize\n",
        "from datetime import datetime \n",
        "from tqdm import tqdm\n",
        "from sklearn.preprocessing import PowerTransformer\n",
        "import umap.umap_ as umap\n",
        "import matplotlib.pyplot as plt\n",
        "import plotly.graph_objects as go\n",
        "from scipy import stats\n",
        "\n",
        "\n",
        "from sklearn.cluster import KMeans\n",
        "from kmodes.kprototypes import KPrototypes\n",
        "\n",
        "import sklearn as sk\n"
      ],
      "metadata": {
        "id": "eGkeQuV8A1f4"
      },
      "execution_count": null,
      "outputs": []
    },
    {
      "cell_type": "code",
      "source": [
        "#수치형 데이터에만 표준화 처리\n",
        "numerical = df.iloc[:,[0, 3, 5, 6]]\n",
        "\n",
        "for c in numerical.columns:\n",
        "    pt = PowerTransformer()\n",
        "    numerical.loc[:, c] =  pt.fit_transform(np.array(numerical[c]).reshape(-1, 1))"
      ],
      "metadata": {
        "id": "X8-dRQN_HrWC"
      },
      "execution_count": null,
      "outputs": []
    },
    {
      "cell_type": "code",
      "source": [
        "#범주형 데이터는 따로 지정해서 군집 분석 시 수치형과 다른 기준으로 분석이 진행될 수 있도록 해준다.  \n",
        "categorical = df.iloc[:,[1, 2, 4, 7, 8, 9, 10]]\n",
        "categorical = pd.get_dummies(categorical) "
      ],
      "metadata": {
        "id": "ulIlhSfOGsKI"
      },
      "execution_count": null,
      "outputs": []
    },
    {
      "cell_type": "code",
      "source": [
        "# 범주형 열의 백분율은 나중에 임베딩에서 가중치 매개변수로 사용됨.\n",
        "categorical_weight = len(df.select_dtypes(include='object').columns) / df.shape[1]\n",
        "\n",
        "#Embedding numerical & categorical\n",
        "fit1 = umap.UMAP(metric='euclidean').fit(numerical)\n",
        "fit2 = umap.UMAP(metric='dice').fit(categorical)"
      ],
      "metadata": {
        "id": "-rBcTHEkztcG"
      },
      "execution_count": null,
      "outputs": []
    },
    {
      "cell_type": "code",
      "source": [
        "categorical_weight"
      ],
      "metadata": {
        "id": "NgWj8LqvNhMv"
      },
      "execution_count": null,
      "outputs": []
    },
    {
      "cell_type": "code",
      "source": [
        "#Augmenting the numerical embedding with categorical\n",
        "intersection = umap.umap_.general_simplicial_set_intersection(fit1.graph_, fit2.graph_, weight=categorical_weight)\n",
        "intersection = umap.umap_.reset_local_connectivity(intersection)\n",
        "embedding = umap.umap_.simplicial_set_embedding(fit1._raw_data, intersection, fit1.n_components, \n",
        "                                                fit1._initial_alpha, fit1._a, fit1._b, \n",
        "                                                fit1.repulsion_strength, fit1.negative_sample_rate, \n",
        "                                                200, 'random', np.random, fit1.metric, \n",
        "                                                fit1._metric_kwds, False)\n",
        "\n",
        "plt.figure(figsize=(20, 10))\n",
        "plt.scatter(*embedding.T, s=2, cmap='Spectral', alpha=1.0)\n",
        "plt.show()"
      ],
      "metadata": {
        "id": "wd0LbMpEhgDL"
      },
      "execution_count": null,
      "outputs": []
    },
    {
      "cell_type": "markdown",
      "source": [
        "K-prototypes 적용"
      ],
      "metadata": {
        "id": "HVgRUlWUEQyX"
      }
    },
    {
      "cell_type": "code",
      "source": [
        "# Choose optimal K using Elbow method(최적의 k개수 도출)\n",
        "cost = []\n",
        "for cluster in range(1, 12):\n",
        "    try:\n",
        "        kprototype = KPrototypes(n_jobs = -1, n_clusters = cluster, init = 'Huang', random_state = 0)\n",
        "        kprototype.fit_predict(kprot_data_df, categorical = categorical_columns)\n",
        "        cost.append(kprototype.cost_)\n",
        "        print('Cluster initiation: {}'.format(cluster))\n",
        "    except:\n",
        "        break\n",
        "# Import module for data visualization\n",
        "from plotnine import *\n",
        "import plotnine\n",
        "# Converting the results into a dataframe and plotting them\n",
        "df_cost = pd.DataFrame({'Cluster':range(1, 12), 'Cost':cost})\n",
        "\n",
        "# Data viz\n",
        "plotnine.options.figure_size = (8, 4.8)\n",
        "(\n",
        "    ggplot(data = df_cost)+\n",
        "    geom_line(aes(x = 'Cluster',\n",
        "                  y = 'Cost'))+\n",
        "    geom_point(aes(x = 'Cluster',\n",
        "                   y = 'Cost'))+\n",
        "    geom_label(aes(x = 'Cluster',\n",
        "                   y = 'Cost',\n",
        "                   label = 'Cluster'),\n",
        "               size = 10,\n",
        "               nudge_y = 1000) +\n",
        "    labs(title = 'Optimal number of cluster with Elbow Method')+\n",
        "    xlab('Number of Clusters k')+\n",
        "    ylab('Cost')+\n",
        "    theme_minimal()\n",
        ")"
      ],
      "metadata": {
        "id": "WVitma1kUNVG"
      },
      "execution_count": null,
      "outputs": []
    },
    {
      "cell_type": "code",
      "source": [
        "kprot_data = df.copy()\n",
        "for c in df.select_dtypes(exclude='object').columns:\n",
        "    pt = PowerTransformer()\n",
        "    kprot_data[c] =  pt.fit_transform(np.array(kprot_data[c]).reshape(-1, 1))"
      ],
      "metadata": {
        "id": "8g-pCNHdEAMf"
      },
      "execution_count": null,
      "outputs": []
    },
    {
      "cell_type": "code",
      "source": [
        "categorical_columns = [1, 2, 4, 7, 8, 9, 10]"
      ],
      "metadata": {
        "id": "Gi3yPhJhEo5I"
      },
      "execution_count": null,
      "outputs": []
    },
    {
      "cell_type": "code",
      "source": [
        "#군집분석 플랜B\n",
        "kproto = KPrototypes(n_clusters= 6, init='Cao', n_jobs = 4)\n",
        "clusters = kproto.fit_predict(kprot_data, categorical=categorical_columns)"
      ],
      "metadata": {
        "id": "2CsYZ_VWAFkF"
      },
      "execution_count": null,
      "outputs": []
    },
    {
      "cell_type": "code",
      "source": [
        "clusters_df = pd.DataFrame(clusters)\n",
        "clusters_df"
      ],
      "metadata": {
        "id": "qcKDiGVOZtqT"
      },
      "execution_count": null,
      "outputs": []
    },
    {
      "cell_type": "code",
      "source": [
        "#군집화한 클러스트 개수를 출력\n",
        "pd.Series(clusters).value_counts()"
      ],
      "metadata": {
        "id": "gP8n0rC0cHAy"
      },
      "execution_count": null,
      "outputs": []
    },
    {
      "cell_type": "code",
      "source": [
        "all_df = pd.concat([df,clusters_df], sort=False).reset_index(drop=True)\n",
        "all_df "
      ],
      "metadata": {
        "id": "AC7UIsQaWSjZ"
      },
      "execution_count": null,
      "outputs": []
    },
    {
      "cell_type": "code",
      "source": [
        "#시각화\n",
        "fig, ax = plt.subplots()\n",
        "fig.set_size_inches((20, 10))\n",
        "scatter = ax.scatter(embedding[:, 0], embedding[:, 1], s=2, c=clusters, cmap='tab20b', alpha=1.0)\n",
        "\n",
        "# produce a legend with the unique colors from the scatter\n",
        "legend1 = ax.legend(*scatter.legend_elements(num=15),\n",
        "                    loc=\"lower left\", title=\"Classes\")\n",
        "ax.add_artist(legend1)"
      ],
      "metadata": {
        "id": "_maCb2ymVcz3"
      },
      "execution_count": null,
      "outputs": []
    },
    {
      "cell_type": "code",
      "source": [],
      "metadata": {
        "id": "2M2CCGaUNdoc"
      },
      "execution_count": null,
      "outputs": []
    },
    {
      "cell_type": "code",
      "source": [
        "# Fit the cluster\n",
        "kprototype = KPrototypes(n_jobs = -1, n_clusters = 10, init = 'Huang', random_state = 0)\n",
        "kprototype.fit_predict(test_X, categorical = categorical_columns)"
      ],
      "metadata": {
        "id": "ekUH6bRXTfGA"
      },
      "execution_count": null,
      "outputs": []
    },
    {
      "cell_type": "code",
      "source": [
        "# Cluster centorid\n",
        "kprototype.cluster_centroids_\n",
        "# Check the iteration of the clusters created\n",
        "kprototype.n_iter_\n",
        "# Check the cost of the clusters created\n",
        "kprototype.cost_"
      ],
      "metadata": {
        "id": "LTTt8M2-eNdS"
      },
      "execution_count": null,
      "outputs": []
    },
    {
      "cell_type": "code",
      "source": [
        "clf_kp = LGBMClassifier(colsample_by_tree=0.8)\n",
        "cv_scores_kp = cross_val_score(clf_kp, lgbm_data, proto_clusters, scoring='f1_weighted')\n",
        "print(f'CV F1 score for K-Prototypes clusters is {np.mean(cv_scores_kp)}')"
      ],
      "metadata": {
        "id": "shdSq6MySOqA"
      },
      "execution_count": null,
      "outputs": []
    },
    {
      "cell_type": "code",
      "source": [
        "# 데이터 정규화(평균=0, 분산=1) 하기\n",
        "from sklearn import preprocessing\n",
        "train_scaled = preprocessing.scale(train_X)\n",
        "train_scaled"
      ],
      "metadata": {
        "id": "Qnplr6iaTUyE"
      },
      "execution_count": null,
      "outputs": []
    },
    {
      "cell_type": "code",
      "source": [
        "clf_kp.fit(lgbm_data, proto_clusters)\n",
        "explainer_kp = shap.TreeExplainer(clf_kp)\n",
        "shap_values_kp = explainer_kp.shap_values(HA_0)\n",
        "shap.summary_plot(shap_values_kp, lgbm_data, plot_type=\"bar\", plot_size=(15, 10))"
      ],
      "metadata": {
        "id": "76bdO6vIRXmX"
      },
      "execution_count": null,
      "outputs": []
    },
    {
      "cell_type": "code",
      "source": [
        "cluster_mean = cluster_mean.T\n",
        "cluster_mean"
      ],
      "metadata": {
        "id": "BNtLvnMxgBO_"
      },
      "execution_count": null,
      "outputs": []
    },
    {
      "cell_type": "code",
      "source": [
        "cluster_mean[1:].plot(figsize=(12,10), kind=\"barh\" , subplots=True, layout=(1, 13) , sharey=True)"
      ],
      "metadata": {
        "id": "W8_tFKvHgsFd"
      },
      "execution_count": null,
      "outputs": []
    }
  ]
}