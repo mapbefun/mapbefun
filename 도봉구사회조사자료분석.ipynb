{
  "nbformat": 4,
  "nbformat_minor": 0,
  "metadata": {
    "colab": {
      "private_outputs": true,
      "provenance": [],
      "collapsed_sections": [],
      "authorship_tag": "ABX9TyNU64XUzZutEpxiFCm0lPmI",
      "include_colab_link": true
    },
    "kernelspec": {
      "name": "python3",
      "display_name": "Python 3"
    },
    "language_info": {
      "name": "python"
    }
  },
  "cells": [
    {
      "cell_type": "markdown",
      "metadata": {
        "id": "view-in-github",
        "colab_type": "text"
      },
      "source": [
        "<a href=\"https://colab.research.google.com/github/mapbefun/mapbefun/blob/main/%EB%8F%84%EB%B4%89%EA%B5%AC%EC%82%AC%ED%9A%8C%EC%A1%B0%EC%82%AC%EC%9E%90%EB%A3%8C%EB%B6%84%EC%84%9D.ipynb\" target=\"_parent\"><img src=\"https://colab.research.google.com/assets/colab-badge.svg\" alt=\"Open In Colab\"/></a>"
      ]
    },
    {
      "cell_type": "code",
      "execution_count": null,
      "metadata": {
        "id": "J9nj-d3BdniI"
      },
      "outputs": [],
      "source": [
        "from google.colab import drive\n",
        "drive.mount(\"/datalab/drive\")"
      ]
    },
    {
      "cell_type": "code",
      "source": [
        "import sys, os\n",
        "sys.path.append(os.pardir)\n",
        "sys.path.append(\"/datalab/drive/MyDrive/dataset/graduate\")\n",
        "my_path=\"/datalab/drive/MyDrive/dataset/graduate\""
      ],
      "metadata": {
        "id": "k5eAwoxtdubC"
      },
      "execution_count": null,
      "outputs": []
    },
    {
      "cell_type": "code",
      "source": [
        "import pandas as pd\n",
        "import numpy as np\n",
        "import matplotlib"
      ],
      "metadata": {
        "id": "A3yWi_3TfOzZ"
      },
      "execution_count": null,
      "outputs": []
    },
    {
      "cell_type": "code",
      "source": [
        "dobong_df = pd.read_csv(\"/datalab/drive/MyDrive/dataset/graduate/dobong_2020_all.csv\") "
      ],
      "metadata": {
        "id": "1ER46IUYgxmf"
      },
      "execution_count": null,
      "outputs": []
    },
    {
      "cell_type": "code",
      "source": [
        "dobong_df.columns"
      ],
      "metadata": {
        "id": "61DOx0Kmh5l0"
      },
      "execution_count": null,
      "outputs": []
    },
    {
      "cell_type": "code",
      "source": [
        "dobong_df = dobong_df[['가구일련번호', '가구주, 가구원 구분', '행정구역 코드', '전체 가구원 수', '가구주와의 관계', '성별', '연령', '혼인상태', '학력', '월 평균 가구소득', '직업', '주택형태', '주거 점유 형태', '도봉구 거주 이유 - 1순위', '주거 만족도',\n",
        "       '도봉구 정주의향', '도봉구 생활환경 만족도(1) - 주거여건 (편의시설, 위치, 치안 등)',\n",
        "       '도봉구 생활환경 만족도(2) - 보건 의료 서비스 (병원, 약국 등)',\n",
        "       '도봉구 생활환경 만족도(3) - 환경 여건 (대기, 수질, 녹지 등)',\n",
        "       '도봉구 생활환경 만족도(4) - 복지 여건 (아동, 여성, 장애인, 노인 복지 등)',\n",
        "       '도봉구 생활환경 만족도(5) - 전반적인 생활환경', '도봉구 하천환경 만족도(1) - 하천 및 휴식 공간 청결 정도',\n",
        "       '도봉구 하천환경 만족도(2) - 하천 내 산책로 및 자전거 도로',\n",
        "       '도봉구 하천환경 만족도(3) - 하천내 시설물 (그늘막, 벤치, 음수대, 화장실 등)',\n",
        "       '지역 주민 평가(1) - 서로 서로 잘 알고 지내는 편이다',\n",
        "       '지역 주민 평가(2) - 동네에서 일어나는 일에 대해 자주 이야기한다',\n",
        "       '지역 주민 평가(3) - 동네의 각종 행사와 모임에 적극적으로 참여한다',\n",
        "       '지역 주민 평가(4) - 어려운 일이 있으면 서로 잘 돕는다', '지역 주위환경 평가(1) - 어둡고 후미진 곳이 많다',\n",
        "       '지역 주위환경 평가(2) - 주변에 쓰레기가 아무렇게나 버려져 있고 지저분하다',\n",
        "       '지역 주위환경 평가(3) - 기초질서(무단횡단, 불법주정차)를 지키지 않는 사람이 많다',\n",
        "       '지역 주위환경 평가(4) - 큰 소리로 싸우는 사람들을 자주 볼 수 있다',\n",
        "       '분야별 안전도(1) - 화재나 홍수, 산사태 등의 재해', '분야별 안전도(2) - 강도, 소매치기 등의 범죄',\n",
        "       '분야별 안전도(3) - 건물(붕괴, 균열), 엘리베이터 추락, 다리 붕괴 등의 건축물 사고',\n",
        "       '분야별 안전도(4) - 어린이/청소년 대상 범죄', '1인 가구 현황 및 정책_혼자 생활한 기간',\n",
        "       '1인 가구 현황 및 정책_혼자 살고 있는 주된 이유',\n",
        "       '1인 가구 현황 및 정책_1인 가구 지원을 위해 필요한 정책 - 1순위',\n",
        "       '1인 가구 현황 및 정책_1인 가구 지원을 위해 필요한 정책 - 2순위', '주이용 교통수단_평일', '주이용 교통수단_주말',\n",
        "       '교통환경 개선사항', '주차 문제 경험 유무', '주차 공간', '보건소 의료서비스',\n",
        "       '청소년 복지 서비스 - 1순위', '여성 복지 서비스 - 1순위', '노인 복지 서비스 - 1순위',\n",
        "       '장애인 복지 서비스 - 1순위', '청년 복지 서비스 - 1순위', '문화·여가 공간 - 1순위', '행정민원서비스 만족도',\n",
        "       '행정민원서비스 불만족 이유', '영역별 구정 만족도(1) - 주민참여', '영역별 구정 만족도(2) - 지역경제',\n",
        "       '영역별 구정 만족도(3) - 문화/체육환경', '영역별 구정 만족도(4) - 교통/주차분야',\n",
        "       '영역별 구정 만족도(5) - 공원녹지', '공공시설 확대 수요 - 1순위', '공공시설 확대 수요 - 2순위',\n",
        "       '도봉구 지속가능발전 분야', '도봉구 내 활동 수준(1) - 도봉구 내에서 쇼핑 등의 경제활동을 한다',\n",
        "       '도봉구 내 활동 수준(2) - 도봉구 내에서 각종 문화 활동을 한다',\n",
        "       '도봉구 내 활동 수준(3) - 주로 도봉구 내의 병원을 이용한다',\n",
        "       '도봉구 내 활동 수준(4) - 주로 주말에는 도봉구 내에서 시간을 보낸다',\n",
        "       '도봉구 내 활동 수준(5) - 주로 도봉구 내에서 친구들을 만나는 편이다',\n",
        "       '도봉구 내 활동 수준(6) - 도봉구 내에서 주기적으로 만나는 모임이 있다',\n",
        "       '도봉구 내 활동 수준(7) - 도봉구 내의 단체에 가입해서 활동하고 있다',\n",
        "       '도봉구 내 활동 수준(8) - 평소 이웃 주민과 함께 마을 단위 행사에 참여한다',\n",
        "       '도봉구 내 활동 수준(9) - 나는 평소 구청에서 하는 일에 관심이 많다',\n",
        "       '도봉구 내 활동 수준(10) - 도봉구 정책에 대해 잘 아는 것이 생활에 도움이 된다',\n",
        "       '도봉구 내 활동 수준(11) - 도봉구 정책에 대해 다양한 매체를 통해 정보를 얻는다',\n",
        "       '도봉구 내 활동 수준(12) - 다양한 경로를 통해 정책에 대한 나의 의견을 제시한다',\n",
        "       '도봉구 내 활동 수준(13) - 나는 도봉구에 대해 잘 알고 있는 편이다',\n",
        "       '도봉구 내 활동 수준(14) - 나는 도봉구와 관련된 많은 추억이 있다',\n",
        "       '도봉구 내 활동 수준(15) - 나는 도봉구에 사는 것을 자랑스럽게 생각한다',\n",
        "       '도봉구 내 활동 수준(16) - 특별한 일이 없으면 도봉구에서 계속 살 것이다', '이웃 관계 만족도',\n",
        "       '이웃과의 갈등 경험(1) - 층간 소음 문제', '이웃과의 갈등 경험(2) - 공동주택 내 흡연 문제',\n",
        "       '이웃과의 갈등 경험(3) - 반려동물 관련 문제', '이웃과의 갈등 경험(4) - 주차 문제', '가구주 가중치',\n",
        "       '가구원 가중치']]"
      ],
      "metadata": {
        "id": "D8VbN5MGjquE"
      },
      "execution_count": null,
      "outputs": []
    },
    {
      "cell_type": "code",
      "source": [
        "chang1_df = dobong_df[dobong_df['행정구역 코드']==710]  \n",
        "chang1_df"
      ],
      "metadata": {
        "id": "cT2O1_QwcjYs"
      },
      "execution_count": null,
      "outputs": []
    },
    {
      "cell_type": "code",
      "source": [
        "dobong_1p_df = dobong_df[dobong_df['전체 가구원 수']==1]  #1인가구만"
      ],
      "metadata": {
        "id": "E8z7cqhGuRT4"
      },
      "execution_count": null,
      "outputs": []
    },
    {
      "cell_type": "code",
      "source": [
        "dobong_1p_df"
      ],
      "metadata": {
        "id": "zTaV-ZtOQhFv"
      },
      "execution_count": null,
      "outputs": []
    },
    {
      "cell_type": "code",
      "source": [
        "dobong_1p_df.to_excel('dobong_1p_df.xlsx') #애니로직 형식에 맞게 엑셀로 출력"
      ],
      "metadata": {
        "id": "kc1g9KlHSy0z"
      },
      "execution_count": null,
      "outputs": []
    },
    {
      "cell_type": "code",
      "source": [
        "#1인 가구 중 성별, 연령, 학력, 월 평균 가구소득, 직업, 혼인상태, 행정구역 코드 등 유사 항목이 많은 순으로 군집화  "
      ],
      "metadata": {
        "id": "0j6FDWIfuvwa"
      },
      "execution_count": null,
      "outputs": []
    },
    {
      "cell_type": "code",
      "source": [
        "dobong_1p_df.isnull().sum() #결측치 확인"
      ],
      "metadata": {
        "id": "1X1Bltr8UDDk"
      },
      "execution_count": null,
      "outputs": []
    },
    {
      "cell_type": "code",
      "source": [
        "from sklearn.preprocessing import StandardScaler\n",
        "basic_clustering = dobong_1p_df[['행정구역 코드','학력','월 평균 가구소득']]  #행정구역 코드, 학력, 소득만을 기준으로 군집화\n",
        "basic_clustering"
      ],
      "metadata": {
        "id": "5bPEejjQUkuh"
      },
      "execution_count": null,
      "outputs": []
    },
    {
      "cell_type": "code",
      "source": [
        "# 정규화 진행\n",
        "scaler = StandardScaler()\n",
        "basic_clustering_scale = pd.DataFrame(scaler.fit_transform(basic_clustering), columns = basic_clustering.columns)"
      ],
      "metadata": {
        "id": "INTnIpiKzoZs"
      },
      "execution_count": null,
      "outputs": []
    },
    {
      "cell_type": "code",
      "source": [
        "\n",
        "from sklearn.cluster import DBSCAN\n",
        "\n",
        "# epsilon, 최소 샘플 개수 설정\n",
        "model = DBSCAN(eps=0.5, min_samples=2)\n",
        "\n",
        "# 군집화 모델 학습 및 클러스터 예측 결과 반환\n",
        "model.fit(basic_clustering_scale)\n",
        "basic_clustering_scale['cluster'] = model.fit_predict(basic_clustering_scale)\n",
        "basic_clustering_scale"
      ],
      "metadata": {
        "id": "AOMfqFBLc1gp"
      },
      "execution_count": null,
      "outputs": []
    },
    {
      "cell_type": "code",
      "source": [
        "import matplotlib.pyplot as plt\n",
        "\n",
        "plt.figure(figsize = (8, 8))\n",
        "\n",
        "# 이상치 번호는 -1, 클러스터 최대 숫자까지 iteration\n",
        "for i in range(-1, basic_clustering_scale['cluster'].max() + 1):\n",
        "    plt.scatter(basic_clustering_scale.loc[basic_clustering_scale['cluster'] == i, '학력'], basic_clustering_scale.loc[basic_clustering_scale['cluster'] == i, '월 평균 가구소득'], \n",
        "                    label = 'cluster ' + str(i))\n",
        "\n",
        "plt.legend()\n",
        "plt.title('eps = 0.5, min_samples = 2', size = 15)\n",
        "\n",
        "plt.xlabel('학력', size = 12)\n",
        "plt.ylabel('월 평균 가구소득', size = 12)\n",
        "plt.show()"
      ],
      "metadata": {
        "id": "FP1Dkw7fhkJ0"
      },
      "execution_count": null,
      "outputs": []
    },
    {
      "cell_type": "code",
      "source": [],
      "metadata": {
        "id": "nwFQJVKGWc7n"
      },
      "execution_count": null,
      "outputs": []
    }
  ]
}