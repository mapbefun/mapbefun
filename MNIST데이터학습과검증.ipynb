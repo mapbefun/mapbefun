{
  "nbformat": 4,
  "nbformat_minor": 0,
  "metadata": {
    "colab": {
      "name": "MNIST데이터학습과검증.ipynb",
      "private_outputs": true,
      "provenance": [],
      "collapsed_sections": [],
      "authorship_tag": "ABX9TyPmtwnkg+yb1BYdT2jXEnVF",
      "include_colab_link": true
    },
    "kernelspec": {
      "name": "python3",
      "display_name": "Python 3"
    },
    "language_info": {
      "name": "python"
    }
  },
  "cells": [
    {
      "cell_type": "markdown",
      "metadata": {
        "id": "view-in-github",
        "colab_type": "text"
      },
      "source": [
        "<a href=\"https://colab.research.google.com/github/mapbefun/mapbefun/blob/main/MNIST%EB%8D%B0%EC%9D%B4%ED%84%B0%ED%95%99%EC%8A%B5%EA%B3%BC%EA%B2%80%EC%A6%9D.ipynb\" target=\"_parent\"><img src=\"https://colab.research.google.com/assets/colab-badge.svg\" alt=\"Open In Colab\"/></a>"
      ]
    },
    {
      "cell_type": "markdown",
      "metadata": {
        "id": "piVel2xT0cbc"
      },
      "source": [
        "제 7장 합성곱 신경망(CNN)을 듣고 아래를 파이썬을 이용하여 구현하고 결과를 분석하시오.<br>\n",
        "Keras를 이용하여 동영상과 동일하거나 자신이 생각하는 CNN을 구현하시오. (제7장_합성곱 신경망(CNN)_02 동영상 참조) <br>\n",
        "회전을 이용하여 데이터를 확장한 후, 다시 학습시킨 후, 검증용 데이터를 이용한 정확도를 계산한다.(우리가 만든 MNIST 검증데이터와 MNIST 검증데이터 각각의 정확도를 계산) <br>\n",
        "확장한 데이터와 MNIST데이터를 통합한 후, 다시 학습시킨 후, 검증용 데이터를 이용한 정확도를 계산한다.(우리가 만든 MNIST 검증데이터와 MNIST 검증데이터 각각의 정확도를 계산)<br>"
      ]
    },
    {
      "cell_type": "code",
      "metadata": {
        "id": "7q11Zu8E0dGz"
      },
      "source": [
        "# 데이터셋 불러오기.\n",
        "from google.colab import drive\n",
        "drive.mount('/datalab/drive')"
      ],
      "execution_count": null,
      "outputs": []
    },
    {
      "cell_type": "code",
      "metadata": {
        "id": "-aJ2ZvMz0go2"
      },
      "source": [
        "import sys, os\n",
        "sys.path.append(os.pardir)\n",
        "sys.path.append('/datalab/drive/MyDrive/딥러닝수업')\n",
        "my_path = '/datalab/drive/MyDrive/딥러닝수업/'"
      ],
      "execution_count": null,
      "outputs": []
    },
    {
      "cell_type": "code",
      "metadata": {
        "id": "DRN1a1fE0oqF"
      },
      "source": [
        "# MNIST 데이터셋 입력.\n",
        "import pickle\n",
        "\n",
        "with open(my_path+\"OurMNIST/OurMNISTdata.pkl\",\"rb\") as f:\n",
        "  our_images=pickle.load(f)\n",
        "with open(my_path+\"OurMNIST/OurMNISTlabel.pkl\",\"rb\") as f:\n",
        "  our_labels=pickle.load(f)\n",
        "\n",
        "print(our_images.shape)\n",
        "print(our_labels.shape)"
      ],
      "execution_count": null,
      "outputs": []
    },
    {
      "cell_type": "code",
      "metadata": {
        "id": "YkeXFv6x0qz7"
      },
      "source": [
        "# One_Hot_Encoded data 정의.\n",
        "def one_hot_encoder(data,nclass):\n",
        "  rows = np.arange(data.shape[0])\n",
        "  one_hot = np.zeros((data.shape[0],nclass),dtype = \"int32\")\n",
        "  one_hot[rows,data] = 1\n",
        "  return one_hot"
      ],
      "execution_count": null,
      "outputs": []
    },
    {
      "cell_type": "code",
      "metadata": {
        "id": "qzfBPNrl0tNI"
      },
      "source": [
        "#넘파이 라이브러리 불러오기\n",
        "import numpy as np\n",
        "our_labels=one_hot_encoder(our_labels,10)"
      ],
      "execution_count": null,
      "outputs": []
    },
    {
      "cell_type": "code",
      "metadata": {
        "id": "rARYut0j0vfa"
      },
      "source": [
        "# 우리 숫자 데이터에 NaN값 제거\n",
        "\n",
        "our_images_1d = our_images.reshape(-1,28*28)\n",
        "pos=[]\n",
        "for i, img in enumerate(our_images_1d):\n",
        "    if np.sum(np.isnan(img)):\n",
        "        pos.append(i)\n",
        "\n",
        "if pos !=[]:\n",
        "    our_images_1d= np.delete(our_images_1d,np.array(pos),axis=0)\n",
        "    our_labels= np.delete(our_labels,np.array(pos),axis=0)\n",
        "\n",
        "    print(our_images_1d.shape)\n",
        "    print(our_labels.shape)"
      ],
      "execution_count": null,
      "outputs": []
    },
    {
      "cell_type": "code",
      "metadata": {
        "id": "COq6_mv70xec"
      },
      "source": [
        "# 훈련용데이터 80%, 검증용 데이터는 20% 만들기.\n",
        "Ntrain = int(our_images_1d.shape[0]*0.8)\n",
        "Ntest = our_images_1d.shape[0] - Ntrain\n",
        "\n",
        "#data를 reshape해준다.\n",
        "our_images = our_images_1d.reshape(-1,28,28,1) #(원래있는데이터갯수,가로크기,세로크기,밴드갯수)\n",
        "\n",
        "x_train = our_images[:Ntrain]\n",
        "t_train = our_labels[:Ntrain]\n",
        "x_test = our_images[Ntrain:]\n",
        "t_test = our_labels[Ntrain:]\n",
        "\n",
        "print(x_train.shape)\n",
        "print(t_train.shape)\n",
        "print(x_test.shape)\n",
        "print(t_test.shape)"
      ],
      "execution_count": null,
      "outputs": []
    },
    {
      "cell_type": "code",
      "metadata": {
        "id": "5t4iSM_-0zkE"
      },
      "source": [
        "# 이미지를 회전 시켜서 데이터 확장\n",
        "import skimage. transform as transform\n",
        "\n",
        "x_train2 = np.zeros((x_train.shape[0]*5,28,28,1))\n",
        "t_train2 = np.zeros((t_train.shape[0]*5,10))\n",
        "\n",
        "for i , img in enumerate(x_train):\n",
        "  x_train2[5*i] = x_train[i]\n",
        "  x_train2[5*i+1] = transform.rotate(x_train[i].reshape(28,28), angle = 8, resize=False).reshape(28,28,1)\n",
        "  x_train2[5*i+2] = transform.rotate(x_train[i].reshape(28,28), angle = -8, resize=False).reshape(28,28,1)\n",
        "  x_train2[5*i+3] = transform.rotate(x_train[i].reshape(28,28), angle = 16, resize=False).reshape(28,28,1)\n",
        "  x_train2[5*i+4] = transform.rotate(x_train[i].reshape(28,28), angle = -16, resize=False).reshape(28,28,1)\n",
        "\n",
        "  t_train2[5*i]     = t_train[i]\n",
        "  t_train2[5*i+1]   = t_train[i]\n",
        "  t_train2[5*i+2]   = t_train[i]\n",
        "  t_train2[5*i+3]   = t_train[i]\n",
        "  t_train2[5*i+4]   = t_train[i]"
      ],
      "execution_count": null,
      "outputs": []
    },
    {
      "cell_type": "code",
      "metadata": {
        "id": "JpzU6odH010M"
      },
      "source": [
        "# Keras로 구현\n",
        "import tensorflow as tf\n",
        "from tensorflow import keras\n",
        "from tensorflow.keras.layers import Dense, Input, Conv2D, MaxPooling2D, BatchNormalization, Dropout, Activation, Flatten\n",
        "from tensorflow.keras.optimizers import Adam\n",
        "from tensorflow.keras.models import Model"
      ],
      "execution_count": null,
      "outputs": []
    },
    {
      "cell_type": "code",
      "metadata": {
        "id": "UEI8pRrD04w4"
      },
      "source": [
        "def CnnKeras(input_size=(28,28,1)):\n",
        "    in1 = input(shape=input_size)\n",
        "\n",
        "    x = Conv2D(128,(3,3),kernel_initializer='he_normal',padding=\"same\")(in1)\n",
        "    x = BatchNormalization()(x)\n",
        "    x = Activation('relu')(x)\n",
        "    x = Dropout(0.3)(x)\n",
        "\n",
        "    x = Conv2D(32,(3,3),kernel_initializer='he_normal',padding=\"same\")(x)\n",
        "    x = BatchNormalization()(x)\n",
        "    x = Activation('relu')(x)\n",
        "    x = Dropout(0.3)(x)\n",
        "\n",
        "    x = Conv2D(8,(3,3),kernel_initializer='he_normal',padding=\"same\")(x)\n",
        "    x = BatchNormalization()(x)\n",
        "    x = Activation('relu')(x)\n",
        "    x = MaxPooling2D(pool_size=(2,2))(x) #28,28을 2배로 줄여 14,14로 만들어 준다.\n",
        "\n",
        "    x = Conv2D(128,(3,3),kernel_initializer='he_normal',padding=\"same\")(x)\n",
        "    x = BatchNormalization()(x)\n",
        "    x = Activation('relu')(x)\n",
        "    x = Dropout(0.3)(x)\n",
        "\n",
        "    x = Conv2D(32,(3,3),kernel_initializer='he_normal',padding=\"same\")(x)\n",
        "    x = BatchNormalization()(x)\n",
        "    x = Activation('relu')(x)\n",
        "    x = Dropout(0.3)(x)\n",
        "\n",
        "    x = Conv2D(8,(3,3),kernel_initializer='he_normal',padding=\"same\")(x)\n",
        "    x = BatchNormalization()(x)\n",
        "    x = Activation('relu')(x)\n",
        "    x = MaxPooling2D(pool_size=(2,2))(x) #7,7\n",
        "\n",
        "    #fully connected layer 연결\n",
        "    x = Flatten()(x) #2차원을 1차원으로 만들어줌\n",
        "    x = Dense(128,kernel_initializer='he_normal')(x)\n",
        "    x = BatchNormalization()(x)\n",
        "    x = Activation('relu')(x)\n",
        "    x = Dropout(0.3)(x)\n",
        "\n",
        "    x = Dense(32,kernel_initializer='he_normal')(x)\n",
        "    x = BatchNormalization()(x)\n",
        "    x = Activation('relu')(x)\n",
        "    x = Dropout(0.3)(x)\n",
        "\n",
        "    x = Dense(10,kernel_initializer='he_normal')(x)\n",
        "    x = Activation('softmax')(x)\n",
        "\n",
        "    model = Model(inputs=[in1],outputs=[x])\n",
        "\n",
        "    return model \n"
      ],
      "execution_count": null,
      "outputs": []
    },
    {
      "cell_type": "code",
      "metadata": {
        "id": "lGNu73Ft06xz"
      },
      "source": [
        "# 모델컴파일\n",
        "lr = 0.001\n",
        "mini_batch = 100\n",
        "mirrored_strategy = tf.distribute.MirroredStrategy(devices=[\"gpu:0\"])\n",
        "with mirrored_strategy.scope():\n",
        "  model = CnnKeras()\n",
        "  model.compile(optimizer=Adam(learning_rate=lr),loss=tf.keras.losses.CategoricalCrossentropy(),metrics=['accuracy'])\n",
        "\n",
        "model.summary()"
      ],
      "execution_count": null,
      "outputs": []
    },
    {
      "cell_type": "code",
      "metadata": {
        "id": "BsVvdiMq09Mq"
      },
      "source": [
        ""
      ],
      "execution_count": null,
      "outputs": []
    }
  ]
}