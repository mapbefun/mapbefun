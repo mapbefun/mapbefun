{
  "nbformat": 4,
  "nbformat_minor": 0,
  "metadata": {
    "colab": {
      "private_outputs": true,
      "provenance": [],
      "collapsed_sections": [],
      "authorship_tag": "ABX9TyPP4UuAzpsmuc4baQ59YRnk",
      "include_colab_link": true
    },
    "kernelspec": {
      "name": "python3",
      "display_name": "Python 3"
    },
    "language_info": {
      "name": "python"
    }
  },
  "cells": [
    {
      "cell_type": "markdown",
      "metadata": {
        "id": "view-in-github",
        "colab_type": "text"
      },
      "source": [
        "<a href=\"https://colab.research.google.com/github/mapbefun/mapbefun/blob/main/%EB%8F%84%EB%B4%89%EA%B5%AC%EA%B3%84%EC%B8%B5%EC%A0%81%EA%B5%B0%EC%A7%91%ED%99%94.ipynb\" target=\"_parent\"><img src=\"https://colab.research.google.com/assets/colab-badge.svg\" alt=\"Open In Colab\"/></a>"
      ]
    },
    {
      "cell_type": "code",
      "execution_count": null,
      "metadata": {
        "id": "omgNq-xgnT9o"
      },
      "outputs": [],
      "source": [
        "from google.colab import drive\n",
        "drive.mount(\"/datalab/drive\")"
      ]
    },
    {
      "cell_type": "code",
      "source": [
        "import sys, os\n",
        "sys.path.append(os.pardir)\n",
        "sys.path.append(\"/datalab/drive/MyDrive/dataset/graduate\")\n",
        "my_path=\"/datalab/drive/MyDrive/dataset/graduate\""
      ],
      "metadata": {
        "id": "AZ6LV7Gvn_ZV"
      },
      "execution_count": null,
      "outputs": []
    },
    {
      "cell_type": "code",
      "source": [
        "import matplotlib.pyplot as plt\n",
        "import pandas as pd\n",
        "import numpy as np"
      ],
      "metadata": {
        "id": "ZtdT6kcbnvmb"
      },
      "execution_count": null,
      "outputs": []
    },
    {
      "cell_type": "code",
      "source": [
        "dobong_df = pd.read_csv(\"/datalab/drive/MyDrive/dataset/graduate/dobong_2020_all.csv\") "
      ],
      "metadata": {
        "id": "HwLvJ8XepCoe"
      },
      "execution_count": null,
      "outputs": []
    },
    {
      "cell_type": "code",
      "source": [
        "dobong_df = dobong_df[['가구일련번호', '가구주, 가구원 구분', '행정구역 코드', '전체 가구원 수', '가구주와의 관계', '성별', '연령', '혼인상태', '학력', '월 평균 가구소득', '직업', '주택형태', '주거 점유 형태', '도봉구 거주 이유 - 1순위', '주거 만족도',\n",
        "       '도봉구 정주의향', '도봉구 생활환경 만족도(1) - 주거여건 (편의시설, 위치, 치안 등)',\n",
        "       '도봉구 생활환경 만족도(2) - 보건 의료 서비스 (병원, 약국 등)',\n",
        "       '도봉구 생활환경 만족도(3) - 환경 여건 (대기, 수질, 녹지 등)',\n",
        "       '도봉구 생활환경 만족도(4) - 복지 여건 (아동, 여성, 장애인, 노인 복지 등)',\n",
        "       '도봉구 생활환경 만족도(5) - 전반적인 생활환경', '도봉구 하천환경 만족도(1) - 하천 및 휴식 공간 청결 정도',\n",
        "       '도봉구 하천환경 만족도(2) - 하천 내 산책로 및 자전거 도로',\n",
        "       '도봉구 하천환경 만족도(3) - 하천내 시설물 (그늘막, 벤치, 음수대, 화장실 등)',\n",
        "       '지역 주민 평가(1) - 서로 서로 잘 알고 지내는 편이다',\n",
        "       '지역 주민 평가(2) - 동네에서 일어나는 일에 대해 자주 이야기한다',\n",
        "       '지역 주민 평가(3) - 동네의 각종 행사와 모임에 적극적으로 참여한다',\n",
        "       '지역 주민 평가(4) - 어려운 일이 있으면 서로 잘 돕는다', '지역 주위환경 평가(1) - 어둡고 후미진 곳이 많다',\n",
        "       '지역 주위환경 평가(2) - 주변에 쓰레기가 아무렇게나 버려져 있고 지저분하다',\n",
        "       '지역 주위환경 평가(3) - 기초질서(무단횡단, 불법주정차)를 지키지 않는 사람이 많다',\n",
        "       '지역 주위환경 평가(4) - 큰 소리로 싸우는 사람들을 자주 볼 수 있다',\n",
        "       '분야별 안전도(1) - 화재나 홍수, 산사태 등의 재해', '분야별 안전도(2) - 강도, 소매치기 등의 범죄',\n",
        "       '분야별 안전도(3) - 건물(붕괴, 균열), 엘리베이터 추락, 다리 붕괴 등의 건축물 사고',\n",
        "       '분야별 안전도(4) - 어린이/청소년 대상 범죄', '1인 가구 현황 및 정책_혼자 생활한 기간',\n",
        "       '1인 가구 현황 및 정책_혼자 살고 있는 주된 이유',\n",
        "       '1인 가구 현황 및 정책_1인 가구 지원을 위해 필요한 정책 - 1순위',\n",
        "       '1인 가구 현황 및 정책_1인 가구 지원을 위해 필요한 정책 - 2순위', '주이용 교통수단_평일', '주이용 교통수단_주말',\n",
        "       '교통환경 개선사항', '주차 문제 경험 유무', '주차 공간', '보건소 의료서비스',\n",
        "       '청소년 복지 서비스 - 1순위', '여성 복지 서비스 - 1순위', '노인 복지 서비스 - 1순위',\n",
        "       '장애인 복지 서비스 - 1순위', '청년 복지 서비스 - 1순위', '문화·여가 공간 - 1순위', '행정민원서비스 만족도',\n",
        "       '행정민원서비스 불만족 이유', '영역별 구정 만족도(1) - 주민참여', '영역별 구정 만족도(2) - 지역경제',\n",
        "       '영역별 구정 만족도(3) - 문화/체육환경', '영역별 구정 만족도(4) - 교통/주차분야',\n",
        "       '영역별 구정 만족도(5) - 공원녹지', '공공시설 확대 수요 - 1순위', '공공시설 확대 수요 - 2순위',\n",
        "       '도봉구 지속가능발전 분야', '도봉구 내 활동 수준(1) - 도봉구 내에서 쇼핑 등의 경제활동을 한다',\n",
        "       '도봉구 내 활동 수준(2) - 도봉구 내에서 각종 문화 활동을 한다',\n",
        "       '도봉구 내 활동 수준(3) - 주로 도봉구 내의 병원을 이용한다',\n",
        "       '도봉구 내 활동 수준(4) - 주로 주말에는 도봉구 내에서 시간을 보낸다',\n",
        "       '도봉구 내 활동 수준(5) - 주로 도봉구 내에서 친구들을 만나는 편이다',\n",
        "       '도봉구 내 활동 수준(6) - 도봉구 내에서 주기적으로 만나는 모임이 있다',\n",
        "       '도봉구 내 활동 수준(7) - 도봉구 내의 단체에 가입해서 활동하고 있다',\n",
        "       '도봉구 내 활동 수준(8) - 평소 이웃 주민과 함께 마을 단위 행사에 참여한다',\n",
        "       '도봉구 내 활동 수준(9) - 나는 평소 구청에서 하는 일에 관심이 많다',\n",
        "       '도봉구 내 활동 수준(10) - 도봉구 정책에 대해 잘 아는 것이 생활에 도움이 된다',\n",
        "       '도봉구 내 활동 수준(11) - 도봉구 정책에 대해 다양한 매체를 통해 정보를 얻는다',\n",
        "       '도봉구 내 활동 수준(12) - 다양한 경로를 통해 정책에 대한 나의 의견을 제시한다',\n",
        "       '도봉구 내 활동 수준(13) - 나는 도봉구에 대해 잘 알고 있는 편이다',\n",
        "       '도봉구 내 활동 수준(14) - 나는 도봉구와 관련된 많은 추억이 있다',\n",
        "       '도봉구 내 활동 수준(15) - 나는 도봉구에 사는 것을 자랑스럽게 생각한다',\n",
        "       '도봉구 내 활동 수준(16) - 특별한 일이 없으면 도봉구에서 계속 살 것이다', '이웃 관계 만족도',\n",
        "       '이웃과의 갈등 경험(1) - 층간 소음 문제', '이웃과의 갈등 경험(2) - 공동주택 내 흡연 문제',\n",
        "       '이웃과의 갈등 경험(3) - 반려동물 관련 문제', '이웃과의 갈등 경험(4) - 주차 문제', '가구주 가중치',\n",
        "       '가구원 가중치']]"
      ],
      "metadata": {
        "id": "mde3xz4aGgmC"
      },
      "execution_count": null,
      "outputs": []
    },
    {
      "cell_type": "code",
      "source": [
        "dobong_1p_df = dobong_df[dobong_df['전체 가구원 수']==1]  #1인가구만\n",
        "\n",
        "dobong_1p_df"
      ],
      "metadata": {
        "id": "45T0FVfYqLXy"
      },
      "execution_count": null,
      "outputs": []
    },
    {
      "cell_type": "code",
      "source": [
        "#창1동\n",
        "dobong_1p_511_df = dobong_1p_df[dobong_1p_df['행정구역 코드']==511]  #1인가구 중에 창1동 거주민만\n",
        "dobong_1p_511_df "
      ],
      "metadata": {
        "id": "otFLpybZoIWI"
      },
      "execution_count": null,
      "outputs": []
    },
    {
      "cell_type": "code",
      "source": [
        "from sklearn.preprocessing import StandardScaler\n",
        "filter_511_df = dobong_1p_511_df[['가구일련번호','학력','월 평균 가구소득']]  #가구일련번호, 학력, 소득만을 기준으로 필터링\n",
        "filter_511_df"
      ],
      "metadata": {
        "id": "P_uv-JGl8RPg"
      },
      "execution_count": null,
      "outputs": []
    },
    {
      "cell_type": "code",
      "source": [
        "filter_511_df.to_excel('/Users/kenzie8/Data/dobongsociety_2020/export_sample.xlsx') #애니로직 형식에 맞게 엑셀로 출력"
      ],
      "metadata": {
        "id": "OGMhcAnBNxjH"
      },
      "execution_count": null,
      "outputs": []
    },
    {
      "cell_type": "code",
      "source": [
        "#군집 분석 시각화 \n",
        "import seaborn as sns\n",
        "import scipy\n",
        "import matplotlib.pyplot as plt\n",
        "import scipy.cluster.hierarchy as sch\n",
        "\n",
        "\n",
        "# data transformation\n",
        "data = filter_511_df\n",
        "data2 = data.set_index('가구일련번호')\n",
        "data_df = pd.DataFrame(data2)\n",
        "data_df"
      ],
      "metadata": {
        "id": "NZkPwoold_8K"
      },
      "execution_count": null,
      "outputs": []
    },
    {
      "cell_type": "code",
      "source": [
        "data_df.to_excel('dobong_1p_df.xlsx') #애니로직 형식에 맞게 엑셀로 출력"
      ],
      "metadata": {
        "id": "T97C_LdfNI6k"
      },
      "execution_count": null,
      "outputs": []
    },
    {
      "cell_type": "code",
      "source": [
        "variables = data_df.columns\n",
        "labels = data_df.index"
      ],
      "metadata": {
        "id": "J6w3IzLxfTD0"
      },
      "execution_count": null,
      "outputs": []
    },
    {
      "cell_type": "code",
      "source": [
        "from scipy.spatial.distance import pdist, squareform"
      ],
      "metadata": {
        "id": "IVjeIGoUBzjd"
      },
      "execution_count": null,
      "outputs": []
    },
    {
      "cell_type": "code",
      "source": [
        "# 2~5. 계층 군집 시행\n",
        "\n",
        "from scipy.cluster.hierarchy import linkage\n",
        "\n",
        "# linkage : pdist함수에서 축약된 거리행렬을 입력 속성으로 사용\n",
        "\n",
        "row_clusters = linkage(pdist(data_df, metric = 'euclidean'),\n",
        "                       method = 'complete')\n",
        "\n",
        "# linkage함수에서 초기 데이터 배열을 전달하고, euclidean 지표를 매개변수로 사용\n",
        "\n",
        "row_clusters = linkage(data_df.values, metric = 'euclidean', method = 'ward')\n",
        "\n",
        "\n",
        "# 군집 결과를 데이터프레임 형태로 반환\n",
        "\n",
        "pd.DataFrame(row_clusters,\n",
        "            columns = ['row label 1', 'row label 2', 'distance', 'no. of items in clust.'],\n",
        "            index = ['cluster %d' %(i+1) for i in range(row_clusters.shape[0])])\n"
      ],
      "metadata": {
        "id": "Zj7o2d9eb915"
      },
      "execution_count": null,
      "outputs": []
    },
    {
      "cell_type": "code",
      "source": [
        "import scipy.cluster.hierarchy as sch\n",
        "import matplotlib.pyplot as plt\n",
        "\n",
        "row_dendr = sch.dendrogram(row_clusters, labels = labels)\n",
        "\n",
        "plt.tight_layout()\n",
        "plt.ylabel('Dobong-gu Chang1-dong')\n",
        "plt.show()"
      ],
      "metadata": {
        "id": "PhOe2THrdQQ3"
      },
      "execution_count": null,
      "outputs": []
    },
    {
      "cell_type": "code",
      "source": [
        "dobong_1p_512_df = dobong_1p_df[dobong_1p_df['행정구역 코드']==512]  #1인가구 중에 창2동 거주민만\n",
        "dobong_1p_512_df "
      ],
      "metadata": {
        "id": "OPpiORVPOk19"
      },
      "execution_count": null,
      "outputs": []
    },
    {
      "cell_type": "code",
      "source": [
        "filter_512_df = dobong_1p_512_df[['가구일련번호','학력','월 평균 가구소득']]  #가구일련번호, 학력, 소득만을 기준으로 필터링\n",
        "filter_512_df"
      ],
      "metadata": {
        "id": "fUtdbwtWhXh3"
      },
      "execution_count": null,
      "outputs": []
    },
    {
      "cell_type": "code",
      "source": [
        "#군집 분석 시각화 \n",
        "import seaborn as sns\n",
        "import scipy\n",
        "import matplotlib.pyplot as plt\n",
        "import scipy.cluster.hierarchy as sch\n",
        "\n",
        "\n",
        "# data transformation\n",
        "data = filter_512_df\n",
        "data2 = data.set_index('가구일련번호')\n",
        "data_df = pd.DataFrame(data2)\n",
        "data_df\n",
        "\n",
        "variables = data_df.columns\n",
        "labels = data_df.index\n",
        "\n",
        "# 2~5. 계층 군집 시행\n",
        "\n",
        "from scipy.cluster.hierarchy import linkage\n",
        "\n",
        "# linkage : pdist함수에서 축약된 거리행렬을 입력 속성으로 사용\n",
        "\n",
        "row_clusters = linkage(pdist(data_df, metric = 'euclidean'),\n",
        "                       method = 'complete')\n",
        "\n",
        "# linkage함수에서 초기 데이터 배열을 전달하고, euclidean 지표를 매개변수로 사용\n",
        "\n",
        "row_clusters = linkage(data_df.values, metric = 'euclidean', method = 'ward')\n",
        "\n",
        "\n",
        "# 군집 결과를 데이터프레임 형태로 반환\n",
        "\n",
        "chang2_1_df=pd.DataFrame(row_clusters,\n",
        "            columns = ['row label 1', 'row label 2', 'distance', 'no. of items in clust.'],\n",
        "            index = ['cluster %d' %(i+1) for i in range(row_clusters.shape[0])])\n",
        "\n",
        "import scipy.cluster.hierarchy as sch\n",
        "import matplotlib.pyplot as plt\n",
        "\n",
        "row_dendr = sch.dendrogram(row_clusters, labels = labels)\n",
        "\n",
        "plt.tight_layout()\n",
        "plt.ylabel('Dobong-gu Chang2-dong')\n",
        "plt.show()\n"
      ],
      "metadata": {
        "id": "gw3XxF-0h_wA"
      },
      "execution_count": null,
      "outputs": []
    },
    {
      "cell_type": "code",
      "source": [
        "chang2_1_df"
      ],
      "metadata": {
        "id": "nM_o47rRM0lk"
      },
      "execution_count": null,
      "outputs": []
    },
    {
      "cell_type": "code",
      "source": [
        "dobong_1p_513_df = dobong_1p_df[dobong_1p_df['행정구역 코드']==513]  #1인가구 중에 창3동 거주민만\n",
        "dobong_1p_513_df "
      ],
      "metadata": {
        "id": "L_jXCHl0OzWG"
      },
      "execution_count": null,
      "outputs": []
    },
    {
      "cell_type": "code",
      "source": [
        "filter_513_df = dobong_1p_513_df[['가구일련번호','학력','월 평균 가구소득']]  #가구일련번호, 학력, 소득만을 기준으로 필터링\n",
        "filter_513_df"
      ],
      "metadata": {
        "id": "Blkk0mY9MKzn"
      },
      "execution_count": null,
      "outputs": []
    },
    {
      "cell_type": "code",
      "source": [
        "#군집 분석 시각화 \n",
        "import seaborn as sns\n",
        "import scipy\n",
        "import matplotlib.pyplot as plt\n",
        "import scipy.cluster.hierarchy as sch\n",
        "\n",
        "\n",
        "# data transformation\n",
        "data = filter_513_df\n",
        "data2 = data.set_index('가구일련번호')\n",
        "data_df = pd.DataFrame(data2)\n",
        "data_df\n",
        "\n",
        "variables = data_df.columns\n",
        "labels = data_df.index\n",
        "\n",
        "# 2~5. 계층 군집 시행\n",
        "\n",
        "from scipy.cluster.hierarchy import linkage\n",
        "\n",
        "# linkage : pdist함수에서 축약된 거리행렬을 입력 속성으로 사용\n",
        "\n",
        "row_clusters = linkage(pdist(data_df, metric = 'euclidean'),\n",
        "                       method = 'complete')\n",
        "\n",
        "# linkage함수에서 초기 데이터 배열을 전달하고, euclidean 지표를 매개변수로 사용\n",
        "\n",
        "row_clusters = linkage(data_df.values, metric = 'euclidean', method = 'ward')\n",
        "\n",
        "\n",
        "# 군집 결과를 데이터프레임 형태로 반환\n",
        "\n",
        "pd.DataFrame(row_clusters,\n",
        "            columns = ['row label 1', 'row label 2', 'distance', 'no. of items in clust.'],\n",
        "            index = ['cluster %d' %(i+1) for i in range(row_clusters.shape[0])])\n",
        "\n",
        "import scipy.cluster.hierarchy as sch\n",
        "import matplotlib.pyplot as plt\n",
        "\n",
        "row_dendr = sch.dendrogram(row_clusters, labels = labels)\n",
        "\n",
        "plt.tight_layout()\n",
        "plt.ylabel('Dobong-gu Chang3-dong')\n",
        "plt.show()\n"
      ],
      "metadata": {
        "id": "B2el6JEVLhMZ"
      },
      "execution_count": null,
      "outputs": []
    },
    {
      "cell_type": "code",
      "source": [
        "dobong_1p_514_df = dobong_1p_df[dobong_1p_df['행정구역 코드']==514]  #1인가구 중에 창4동 거주민만\n",
        "dobong_1p_514_df "
      ],
      "metadata": {
        "id": "OeZt0_4bPNgC"
      },
      "execution_count": null,
      "outputs": []
    },
    {
      "cell_type": "code",
      "source": [
        "filter_514_df = dobong_1p_514_df[['가구일련번호','학력','월 평균 가구소득']]  #가구일련번호, 학력, 소득만을 기준으로 필터링\n",
        "filter_514_df"
      ],
      "metadata": {
        "id": "AwAai3iXMngD"
      },
      "execution_count": null,
      "outputs": []
    },
    {
      "cell_type": "code",
      "source": [
        "#군집 분석 시각화 \n",
        "import seaborn as sns\n",
        "import scipy\n",
        "import matplotlib.pyplot as plt\n",
        "import scipy.cluster.hierarchy as sch\n",
        "\n",
        "\n",
        "# data transformation\n",
        "data = filter_514_df\n",
        "data2 = data.set_index('가구일련번호')\n",
        "data_df = pd.DataFrame(data2)\n",
        "data_df\n",
        "\n",
        "variables = data_df.columns\n",
        "labels = data_df.index\n",
        "\n",
        "# 2~5. 계층 군집 시행\n",
        "\n",
        "from scipy.cluster.hierarchy import linkage\n",
        "\n",
        "# linkage : pdist함수에서 축약된 거리행렬을 입력 속성으로 사용\n",
        "\n",
        "row_clusters = linkage(pdist(data_df, metric = 'euclidean'),\n",
        "                       method = 'complete')\n",
        "\n",
        "# linkage함수에서 초기 데이터 배열을 전달하고, euclidean 지표를 매개변수로 사용\n",
        "\n",
        "row_clusters = linkage(data_df.values, metric = 'euclidean', method = 'ward')\n",
        "\n",
        "\n",
        "# 군집 결과를 데이터프레임 형태로 반환\n",
        "\n",
        "pd.DataFrame(row_clusters,\n",
        "            columns = ['row label 1', 'row label 2', 'distance', 'no. of items in clust.'],\n",
        "            index = ['cluster %d' %(i+1) for i in range(row_clusters.shape[0])])\n",
        "\n",
        "import scipy.cluster.hierarchy as sch\n",
        "import matplotlib.pyplot as plt\n",
        "\n",
        "row_dendr = sch.dendrogram(row_clusters, labels = labels)\n",
        "\n",
        "plt.tight_layout()\n",
        "plt.ylabel('Dobong-gu Chang4-dong')\n",
        "plt.show()\n"
      ],
      "metadata": {
        "id": "e7spx9-aM2vF"
      },
      "execution_count": null,
      "outputs": []
    },
    {
      "cell_type": "code",
      "source": [
        "dobong_1p_515_df = dobong_1p_df[dobong_1p_df['행정구역 코드']==515]  #1인가구 중에 창5동 거주민만\n",
        "dobong_1p_515_df "
      ],
      "metadata": {
        "id": "1y5IO2DSRDIx"
      },
      "execution_count": null,
      "outputs": []
    },
    {
      "cell_type": "code",
      "source": [
        "dobong_1p_521_df = dobong_1p_df[dobong_1p_df['행정구역 코드']==521]  #1인가구 중에 도봉1동 거주민만\n",
        "dobong_1p_521_df "
      ],
      "metadata": {
        "id": "SSezxzCAZQ1Y"
      },
      "execution_count": null,
      "outputs": []
    },
    {
      "cell_type": "code",
      "source": [
        "dobong_1p_522_df = dobong_1p_df[dobong_1p_df['행정구역 코드']==522]  #1인가구 중에 도봉2동 거주민만\n",
        "dobong_1p_522_df "
      ],
      "metadata": {
        "id": "Ao9vX-TmSKF8"
      },
      "execution_count": null,
      "outputs": []
    },
    {
      "cell_type": "code",
      "source": [
        "dobong_1p_660_df = dobong_1p_df[dobong_1p_df['행정구역 코드']==660]  #1인가구 중에 쌍문1동 거주민만\n",
        "dobong_1p_660_df "
      ],
      "metadata": {
        "id": "OAhyNp72Sh6h"
      },
      "execution_count": null,
      "outputs": []
    },
    {
      "cell_type": "code",
      "source": [
        "dobong_1p_670_df = dobong_1p_df[dobong_1p_df['행정구역 코드']==670]  #1인가구 중에 쌍문2동 거주민만\n",
        "dobong_1p_670_df "
      ],
      "metadata": {
        "id": "cOcQRvBpTAKJ"
      },
      "execution_count": null,
      "outputs": []
    },
    {
      "cell_type": "code",
      "source": [
        "dobong_1p_680_df = dobong_1p_df[dobong_1p_df['행정구역 코드']==680]  #1인가구 중에 쌍문3동 거주민만\n",
        "dobong_1p_680_df "
      ],
      "metadata": {
        "id": "ExUUuSvfZ0ZI"
      },
      "execution_count": null,
      "outputs": []
    },
    {
      "cell_type": "code",
      "source": [
        "dobong_1p_681_df = dobong_1p_df[dobong_1p_df['행정구역 코드']==681]  #1인가구 중에 쌍문4동 거주민만\n",
        "dobong_1p_681_df "
      ],
      "metadata": {
        "id": "Uzmo6O7DaBUT"
      },
      "execution_count": null,
      "outputs": []
    },
    {
      "cell_type": "code",
      "source": [
        "dobong_1p_690_df = dobong_1p_df[dobong_1p_df['행정구역 코드']==690]  #1인가구 중에 방학1동 거주민만\n",
        "dobong_1p_690_df "
      ],
      "metadata": {
        "id": "bFe69bcgaKeZ"
      },
      "execution_count": null,
      "outputs": []
    },
    {
      "cell_type": "code",
      "source": [
        "dobong_1p_700_df = dobong_1p_df[dobong_1p_df['행정구역 코드']==700]  #1인가구 중에 방학2동 거주민만\n",
        "dobong_1p_700_df "
      ],
      "metadata": {
        "id": "ZQ18Mz20bTSQ"
      },
      "execution_count": null,
      "outputs": []
    },
    {
      "cell_type": "code",
      "source": [
        "dobong_1p_710_df = dobong_1p_df[dobong_1p_df['행정구역 코드']==710]  #1인가구 중에 방학3동 거주민만\n",
        "dobong_1p_710_df "
      ],
      "metadata": {
        "id": "Ms9GiGb9bgnP"
      },
      "execution_count": null,
      "outputs": []
    },
    {
      "cell_type": "code",
      "source": [
        "basic_cluster = dobong_1p_df[['학력','월 평균 가구소득']]  #기본 군집의 조건만 따로 떼어 변수(basic_cluster)에 저장\n",
        "basic_cluster.head(332)"
      ],
      "metadata": {
        "id": "H5_qoIBdrg6f"
      },
      "execution_count": null,
      "outputs": []
    },
    {
      "cell_type": "code",
      "source": [],
      "metadata": {
        "id": "bu9sxdUlRQv3"
      },
      "execution_count": null,
      "outputs": []
    },
    {
      "cell_type": "code",
      "source": [
        "from sklearn.cluster import KMeans\n",
        "from sklearn.preprocessing import StandardScaler\n",
        "\n",
        "#표준화\n",
        "sc = StandardScaler()\n",
        "basic_cluster_scaled = sc.fit_transform(basic_cluster)\n",
        "pd.DataFrame(basic_cluster_scaled) #학력,2개 변수가 표준화됨."
      ],
      "metadata": {
        "id": "Xiy_Qf5XpPtu"
      },
      "execution_count": null,
      "outputs": []
    },
    {
      "cell_type": "code",
      "source": [
        "#basic_cluster_scaled 데이터를 넣어 클러스터링\n",
        "kmeans = KMeans(n_clusters=12, random_state=0)\n",
        "clusters = kmeans.fit(basic_cluster_scaled)\n",
        "\n",
        "#클러스터링 변수인 clusters 값을 원본 데이터인 'dobong_1p_df'내에 넣기 \n",
        "dobong_1p_df['cluster'] = clusters.labels_\n",
        "\n",
        "cluster_array = dobong_1p_df.sort_values(by=\"cluster\", axis=0, ascending=True, inplace=False)\n",
        "cluster_array.head(30)"
      ],
      "metadata": {
        "id": "JPs4tcWNpmY1"
      },
      "execution_count": null,
      "outputs": []
    },
    {
      "cell_type": "code",
      "source": [
        "#군집별 데이터 개수 확인\n",
        "basic_cluster.groupby('cluster').count()"
      ],
      "metadata": {
        "id": "3R-a6NJyvpMM"
      },
      "execution_count": null,
      "outputs": []
    },
    {
      "cell_type": "code",
      "source": [
        "#군집별 평균값\n",
        "basic_cluster.groupby('cluster').mean()"
      ],
      "metadata": {
        "id": "Xm0lOW8HBW-x"
      },
      "execution_count": null,
      "outputs": []
    },
    {
      "cell_type": "code",
      "source": [
        "from sklearn.decomposition import PCA\n",
        "X = basic_cluster_scaled.copy()\n",
        "\n",
        "#객체\n",
        "pca = PCA(n_components=2)\n",
        "\n",
        "#적용\n",
        "pca.fit(X)\n",
        "x_pca = pca.transform(X)\n",
        "x_pca"
      ],
      "metadata": {
        "id": "jTIAq3yQOaQT"
      },
      "execution_count": null,
      "outputs": []
    },
    {
      "cell_type": "code",
      "source": [
        "#보기 쉽게 데이터프레임으로 만들기\n",
        "#x_pca를 보기 쉽게 데이터프레임으로 만들기\n",
        "pca_df = pd.DataFrame(x_pca)\n",
        "pca_df['cluster'] = basic_cluster['cluster'] \n",
        "pca_df.head(10)"
      ],
      "metadata": {
        "id": "Hy9FKxtSINMn"
      },
      "execution_count": null,
      "outputs": []
    },
    {
      "cell_type": "code",
      "source": [
        "import matplotlib.pyplot as plt\n",
        "import seaborn as sns"
      ],
      "metadata": {
        "id": "roh2OUVZGq0S"
      },
      "execution_count": null,
      "outputs": []
    },
    {
      "cell_type": "code",
      "source": [
        "axs = plt.subplots()\n",
        "axs = sns.scatterplot(0, 1, hue='cluster', data=pca_df)"
      ],
      "metadata": {
        "id": "05JUyPfbIAU2"
      },
      "execution_count": null,
      "outputs": []
    },
    {
      "cell_type": "code",
      "source": [],
      "metadata": {
        "id": "B59HbTvuJCuS"
      },
      "execution_count": null,
      "outputs": []
    }
  ]
}